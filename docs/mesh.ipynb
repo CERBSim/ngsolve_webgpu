{
 "cells": [
  {
   "cell_type": "markdown",
   "id": "1ebff684-7942-44f9-bb32-706483d5e227",
   "metadata": {},
   "source": [
    "# Mesh Visualization\n",
    "\n",
    "Here building blocks for mesh visualization are introduced."
   ]
  },
  {
   "cell_type": "markdown",
   "id": "dd611be7-6ad8-4aa9-a022-ad35cc6814db",
   "metadata": {},
   "source": [
    "## 2D Elements & Wireframe\n",
    "\n",
    "The `MeshData` object stores gpu-data of the mesh and makes it accessible to multiple renderers (surface/volume elements, wireframe data, coefficient function, ...)\n",
    "\n"
   ]
  },
  {
   "cell_type": "code",
   "execution_count": null,
   "id": "cc50e9c2-06bd-4ffc-8c34-06a6b0e38a26",
   "metadata": {},
   "outputs": [],
   "source": [
    "from ngsolve import *\n",
    "from ngsolve_webgpu.mesh import *\n",
    "from webgpu.jupyter import Draw\n",
    "\n",
    "mesh = Mesh(unit_square.GenerateMesh(maxh=0.2))\n",
    "meshdata = MeshData(mesh)\n",
    "surface_elements = MeshElements2d(meshdata)\n",
    "wireframe = MeshWireframe2d(meshdata)\n",
    "\n",
    "Draw([surface_elements, wireframe])"
   ]
  },
  {
   "cell_type": "markdown",
   "id": "9d295ae5-9b37-4b39-b1fb-c8e890313455",
   "metadata": {},
   "source": [
    "## 3D Elements\n",
    "\n",
    "The renderer for 3d elements automatically sets the mesh data to also write 3d volume element information to the GPU.\n",
    "When adding options from the volume renderer to the gui a slider for shrinking the elements is added."
   ]
  },
  {
   "cell_type": "code",
   "execution_count": null,
   "id": "2976de0f-56d4-4c08-b35b-20fe6d768ede",
   "metadata": {},
   "outputs": [],
   "source": [
    "from ngsolve import *\n",
    "from ngsolve_webgpu.mesh import *\n",
    "from webgpu.jupyter import Draw\n",
    "\n",
    "mesh = Mesh(unit_cube.GenerateMesh(maxh=0.2))\n",
    "meshdata = MeshData(mesh)\n",
    "volume_elements = MeshElements3d(meshdata)\n",
    "\n",
    "scene = Draw(volume_elements)\n",
    "volume_elements.add_options_to_gui(scene.gui)"
   ]
  },
  {
   "cell_type": "code",
   "execution_count": null,
   "id": "6daaba74-e90c-4b7d-92d2-370ab0fab971",
   "metadata": {},
   "outputs": [],
   "source": []
  }
 ],
 "metadata": {
  "kernelspec": {
   "display_name": "Python 3 (ipykernel)",
   "language": "python",
   "name": "python3"
  },
  "language_info": {
   "codemirror_mode": {
    "name": "ipython",
    "version": 3
   },
   "file_extension": ".py",
   "mimetype": "text/x-python",
   "name": "python",
   "nbconvert_exporter": "python",
   "pygments_lexer": "ipython3",
   "version": "3.13.3"
  }
 },
 "nbformat": 4,
 "nbformat_minor": 5
}
