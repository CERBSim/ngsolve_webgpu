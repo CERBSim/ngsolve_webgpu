{
 "cells": [
  {
   "cell_type": "code",
   "execution_count": null,
   "id": "b9f67305-3c9c-4b7d-bf86-80630a649b41",
   "metadata": {},
   "outputs": [],
   "source": [
    "# draw function on 2d elements\n",
    "\n",
    "import webgpu.jupyter as wj\n",
    "#from webgpu.mesh import MeshData\n",
    "from ngsolve import *\n",
    "import ngsolve_webgpu.jupyter\n",
    "\n",
    "def draw_func_with_vert_numbers(mesh, cf, order=2):\n",
    "    from ngsolve_webgpu.mesh import MeshData, PointNumbersRenderObject\n",
    "    from ngsolve_webgpu.cf import FunctionData, CoefficientFunctionRenderObject\n",
    "    \n",
    "    mesh_data = MeshData(mesh.ngmesh)\n",
    "    function_data = FunctionData(mesh_data, cf, order)\n",
    "    mesh_object = CoefficientFunctionRenderObject(function_data)\n",
    "    point_numbers = PointNumbersRenderObject(mesh_data, 13)\n",
    "    mesh_object.colormap.set_min_max(0., 1.)\n",
    "    wj.Draw([mesh_object.colormap, mesh_object, point_numbers], modules=[\"ngsolve_webgpu\"])\n",
    "    \n",
    "    \n",
    "m = Mesh(unit_square.GenerateMesh(maxh=.1))\n",
    "#m = Mesh(unit_cube.GenerateMesh(maxh=.3))\n",
    "cf=sin(10*x)*sin(10*y)\n",
    "\n",
    "draw_func_with_vert_numbers(m, cf, order=5)\n"
   ]
  },
  {
   "cell_type": "code",
   "execution_count": null,
   "id": "ebd100f7-36eb-4178-869a-5fade1604ce9",
   "metadata": {},
   "outputs": [],
   "source": [
    "# draw geometry\n",
    "\n",
    "from netgen.occ import *\n",
    "from ngsolve import *\n",
    "import webgpu.jupyter\n",
    "import ngsolve_webgpu.jupyter\n",
    "\n",
    "box = Box((-1,-1,-1), (1,1,1)) + Sphere((1,1,1), 0.4)\n",
    "\n",
    "def draw_geo(geo):\n",
    "    import ngsolve_webgpu.geometry\n",
    "    if isinstance(geo, TopoDS_Shape):\n",
    "        geo = OCCGeometry(geo)\n",
    "    obj = ngsolve_webgpu.geometry.GeometryRenderObject(geo)\n",
    "    wj.Draw([obj], modules=[\"ngsolve_webgpu\"])\n",
    "\n",
    "draw_geo(box)"
   ]
  },
  {
   "cell_type": "code",
   "execution_count": null,
   "id": "92a2c610-652b-4cfa-b933-a7ab361f206a",
   "metadata": {},
   "outputs": [],
   "source": [
    "# draw isosurface\n",
    "import webgpu.jupyter\n",
    "import ngsolve_webgpu.jupyter\n",
    "from netgen.occ import *\n",
    "from ngsolve import *\n",
    "\n",
    "box = Box((-1,-1,-1), (1,1,1))\n",
    "geo = OCCGeometry(box)\n",
    "mesh = Mesh(geo.GenerateMesh(maxh=.2))\n",
    "gf = GridFunction(H1(mesh, order=3))\n",
    "cf = x**2 + y**2 + z**2 - 1.2**2\n",
    "gf.Set(cf)\n",
    "\n",
    "def draw_iso(levelset, func, mesh):\n",
    "    import ngsolve_webgpu.isosurface\n",
    "    import ngsolve_webgpu.mesh\n",
    "    import ngsolve_webgpu.cf\n",
    "    iso = ngsolve_webgpu.isosurface.IsoSurfaceRenderObject(-levelset, func, mesh, \"Isosurface\")\n",
    "    meshdata = ngsolve_webgpu.mesh.MeshData(mesh.ngmesh)\n",
    "    data = ngsolve_webgpu.cf.FunctionData(meshdata, func, order=1)\n",
    "    levelset_data = ngsolve_webgpu.cf.FunctionData(meshdata, -levelset, order=1)\n",
    "    neg_outer = ngsolve_webgpu.isosurface.NegativeSurfaceRenderer(data, levelset_data)\n",
    "    iso.colormap = neg_outer.colormap\n",
    "    iso.colormap.set_min_max(-100, -50)\n",
    "    scene = webgpu.jupyter.Scene([neg_outer.colormap, iso, neg_outer])\n",
    "    webgpu.jupyter.Draw(scene, modules=[\"ngsolve_webgpu\"])\n",
    "    return scene\n",
    "\n",
    "scene = draw_iso(gf, x, mesh)"
   ]
  },
  {
   "cell_type": "code",
   "execution_count": null,
   "id": "7c5c359b-33b0-4518-a395-2d05fe7f51cd",
   "metadata": {},
   "outputs": [],
   "source": [
    "gf.Set(x**2 + y**2 + z**2 - 1.1**2)\n",
    "scene.redraw()"
   ]
  },
  {
   "cell_type": "code",
   "execution_count": null,
   "id": "2df30ea7-82b6-4114-ad0b-8078fda62c16",
   "metadata": {},
   "outputs": [],
   "source": []
  }
 ],
 "metadata": {
  "kernelspec": {
   "display_name": "Python 3 (ipykernel)",
   "language": "python",
   "name": "python3"
  },
  "language_info": {
   "codemirror_mode": {
    "name": "ipython",
    "version": 3
   },
   "file_extension": ".py",
   "mimetype": "text/x-python",
   "name": "python",
   "nbconvert_exporter": "python",
   "pygments_lexer": "ipython3",
   "version": "3.13.1"
  }
 },
 "nbformat": 4,
 "nbformat_minor": 5
}
