{
 "cells": [
  {
   "cell_type": "code",
   "execution_count": null,
   "id": "b9f67305-3c9c-4b7d-bf86-80630a649b41",
   "metadata": {},
   "outputs": [],
   "source": [
    "# draw function on 2d elements\n",
    "\n",
    "import webgpu.jupyter\n",
    "#from webgpu.mesh import MeshData\n",
    "from ngsolve import *\n",
    "\n",
    "def render(gpu, mesh, cf, order=2):\n",
    "    import ngsolve_webgpu.mesh\n",
    "    from webgpu import Draw\n",
    "    import pyodide.ffi\n",
    "    import ngsolve as ngs\n",
    "    import js\n",
    "    \n",
    "    mesh_data = ngsolve_webgpu.mesh.MeshData(mesh, cf, order)\n",
    "    mesh_object = ngsolve_webgpu.mesh.MeshRenderObject(gpu, mesh_data)\n",
    "    point_numbers = ngsolve_webgpu.mesh.PointNumbersRenderObject(gpu, mesh_data, 13)\n",
    "    gpu.colormap.set_min_max(0., 1.)\n",
    "    Draw([mesh_object, point_numbers])\n",
    "\n",
    "m = Mesh(unit_square.GenerateMesh(maxh=.1))\n",
    "#m = Mesh(unit_cube.GenerateMesh(maxh=.3))\n",
    "cf=sin(10*x)*sin(10*y)\n",
    "\n",
    "# \"data\" will be passed as argument to render on the pyodide side\n",
    "webgpu.jupyter.DrawCustom(render, kwargs={\"cf\": cf, \"mesh\": m, \"order\": 5}, modules=[\"ngsolve_webgpu\"])"
   ]
  },
  {
   "cell_type": "code",
   "execution_count": null,
   "id": "ebd100f7-36eb-4178-869a-5fade1604ce9",
   "metadata": {},
   "outputs": [],
   "source": [
    "# draw geometry\n",
    "\n",
    "import webgpu.jupyter\n",
    "from netgen.occ import *\n",
    "from ngsolve import *\n",
    "\n",
    "box = Box((-1,-1,-1), (1,1,1)) + Sphere((1,1,1), 0.4)\n",
    "\n",
    "def setup(gpu, geo):\n",
    "    import ngsolve_webgpu.geometry\n",
    "    from webgpu.draw import Draw\n",
    "    obj = ngsolve_webgpu.geometry.GeometryRenderObject(gpu, geo)\n",
    "    Draw(obj)\n",
    "\n",
    "def draw_geo(geo):\n",
    "    if isinstance(geo, TopoDS_Shape):\n",
    "        geo = OCCGeometry(geo)\n",
    "    webgpu.jupyter.DrawCustom(setup, kwargs={\"geo\" : geo}, modules=[\"ngsolve_webgpu\"])\n",
    "\n",
    "draw_geo(box)"
   ]
  },
  {
   "cell_type": "code",
   "execution_count": null,
   "id": "92a2c610-652b-4cfa-b933-a7ab361f206a",
   "metadata": {},
   "outputs": [],
   "source": [
    "# draw isosurface\n",
    "\n",
    "import webgpu.jupyter\n",
    "from netgen.occ import *\n",
    "from ngsolve import *\n",
    "\n",
    "box = Box((-1,-1,-1), (1,1,1))\n",
    "geo = OCCGeometry(box)\n",
    "mesh = Mesh(geo.GenerateMesh(maxh=.15))\n",
    "\n",
    "cf = x**2 + y**2 + z**2 - 0.5**2\n",
    "\n",
    "def setup(gpu, levelset, func, mesh):\n",
    "    import ngsolve_webgpu.isosurface\n",
    "    from webgpu import Draw\n",
    "    Draw(ngsolve_webgpu.isosurface.IsoSurfaceRenderObject(gpu, levelset, func, mesh, \"Isosurface\"))\n",
    "\n",
    "def draw_iso(levelset, func, mesh):\n",
    "    webgpu.jupyter.DrawCustom(setup, kwargs={\"levelset\" : levelset, \"mesh\" : mesh, \"func\" : func}, modules=[\"ngsolve_webgpu\"])\n",
    "\n",
    "draw_iso(cf, x/Norm(CF((x,y,z))), mesh)"
   ]
  },
  {
   "cell_type": "code",
   "execution_count": null,
   "id": "7c5c359b-33b0-4518-a395-2d05fe7f51cd",
   "metadata": {},
   "outputs": [],
   "source": []
  }
 ],
 "metadata": {
  "kernelspec": {
   "display_name": "Python 3 (ipykernel)",
   "language": "python",
   "name": "python3"
  },
  "language_info": {
   "codemirror_mode": {
    "name": "ipython",
    "version": 3
   },
   "file_extension": ".py",
   "mimetype": "text/x-python",
   "name": "python",
   "nbconvert_exporter": "python",
   "pygments_lexer": "ipython3",
   "version": "3.13.1"
  }
 },
 "nbformat": 4,
 "nbformat_minor": 5
}
