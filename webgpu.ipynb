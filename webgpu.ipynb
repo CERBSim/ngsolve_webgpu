{
 "cells": [
  {
   "cell_type": "code",
   "execution_count": null,
   "id": "b9f67305-3c9c-4b7d-bf86-80630a649b41",
   "metadata": {},
   "outputs": [],
   "source": [
    "# draw function on 2d elements\n",
    "\n",
    "import webgpu.jupyter\n",
    "#from webgpu.mesh import MeshData\n",
    "from ngsolve import *\n",
    "\n",
    "def render(data):\n",
    "    import ngsolve_webgpu.mesh\n",
    "    import pyodide.ffi\n",
    "    import webgpu\n",
    "    from webgpu.jupyter import gpu\n",
    "    import ngsolve as ngs\n",
    "    import js\n",
    "\n",
    "    mesh = data[\"mesh\"]\n",
    "    cf = data[\"cf\"]\n",
    "    order = data.get(\"order\", 1)\n",
    "\n",
    "    mesh_data = ngsolve_webgpu.mesh.MeshData(mesh, cf, order)\n",
    "    mesh_object = ngsolve_webgpu.mesh.MeshRenderObject(gpu, mesh_data)\n",
    "    point_numbers = ngsolve_webgpu.mesh.PointNumbersRenderObject(gpu, mesh_data, 13)\n",
    "    gpu.colormap.set_min_max(0., 1.)\n",
    "    def render_function(t):\n",
    "        gpu.update_uniforms()\n",
    "        # gpu.uniforms.update_buffer()\n",
    "\n",
    "        encoder = gpu.device.createCommandEncoder()\n",
    "        mesh_object.render(encoder)\n",
    "        point_numbers.render(encoder)\n",
    "        gpu.device.queue.submit([encoder.finish()])\n",
    "\n",
    "    render_function = pyodide.ffi.create_proxy(render_function)\n",
    "    gpu.input_handler.render_function = render_function\n",
    "    js.requestAnimationFrame(render_function)\n",
    "\n",
    "m = Mesh(unit_square.GenerateMesh(maxh=.1))\n",
    "#m = Mesh(unit_cube.GenerateMesh(maxh=.3))\n",
    "cf=sin(10*x)*sin(10*y)\n",
    "\n",
    "# \"data\" will be passed as argument to render on the pyodide side\n",
    "webgpu.jupyter.DrawCustom({\"cf\": cf, \"mesh\": m, \"order\": 5}, render, [\"ngsolve_webgpu\"])"
   ]
  },
  {
   "cell_type": "code",
   "execution_count": null,
   "id": "ebd100f7-36eb-4178-869a-5fade1604ce9",
   "metadata": {},
   "outputs": [],
   "source": [
    "# draw geometry\n",
    "\n",
    "import webgpu.jupyter\n",
    "from netgen.occ import *\n",
    "from ngsolve import *\n",
    "\n",
    "box = Box((-1,-1,-1), (1,1,1)) + Sphere((1,1,1), 0.4)\n",
    "\n",
    "def render(data):\n",
    "    import ngsolve_webgpu.geometry\n",
    "    ngsolve_webgpu.geometry.render_geometry(data[\"geo\"])\n",
    "\n",
    "def draw_geo(geo):\n",
    "    if isinstance(geo, TopoDS_Shape):\n",
    "        geo = OCCGeometry(geo)\n",
    "    webgpu.jupyter.DrawCustom({\"geo\" : geo}, render, [\"ngsolve_webgpu\"])\n",
    "\n",
    "draw_geo(box)"
   ]
  },
  {
   "cell_type": "code",
   "execution_count": null,
   "id": "92a2c610-652b-4cfa-b933-a7ab361f206a",
   "metadata": {},
   "outputs": [],
   "source": [
    "# draw isosurface\n",
    "\n",
    "import webgpu.jupyter\n",
    "from netgen.occ import *\n",
    "from ngsolve import *\n",
    "\n",
    "box = Box((-1,-1,-1), (1,1,1))\n",
    "geo = OCCGeometry(box)\n",
    "mesh = Mesh(geo.GenerateMesh(maxh=.15))\n",
    "\n",
    "cf = x**2 + y**2 + z**2 - 0.5**2\n",
    "\n",
    "def render(data):\n",
    "    import ngsolve_webgpu.isosurface\n",
    "    ngsolve_webgpu.isosurface.render_isosurface(data[\"levelset\"], data[\"func\"], data[\"mesh\"])\n",
    "\n",
    "def draw_iso(levelset, func, mesh):\n",
    "    webgpu.jupyter.DrawCustom({\"levelset\" : levelset, \"mesh\" : mesh, \"func\" : func}, render, [\"ngsolve_webgpu\"])\n",
    "\n",
    "draw_iso(cf, x/Norm(CF((x,y,z))), mesh)"
   ]
  },
  {
   "cell_type": "code",
   "execution_count": null,
   "id": "5bf87343-dcc7-4449-bfc7-d78cc3b9001e",
   "metadata": {},
   "outputs": [],
   "source": []
  }
 ],
 "metadata": {
  "kernelspec": {
   "display_name": "Python 3 (ipykernel)",
   "language": "python",
   "name": "python3"
  },
  "language_info": {
   "codemirror_mode": {
    "name": "ipython",
    "version": 3
   },
   "file_extension": ".py",
   "mimetype": "text/x-python",
   "name": "python",
   "nbconvert_exporter": "python",
   "pygments_lexer": "ipython3",
   "version": "3.13.1"
  }
 },
 "nbformat": 4,
 "nbformat_minor": 5
}
