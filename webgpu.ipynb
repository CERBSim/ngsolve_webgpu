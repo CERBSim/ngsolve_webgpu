{
 "cells": [
  {
   "cell_type": "code",
   "execution_count": null,
   "id": "b9f67305-3c9c-4b7d-bf86-80630a649b41",
   "metadata": {},
   "outputs": [],
   "source": [
    "# draw function on 2d elements\n",
    "\n",
    "import webgpu.jupyter\n",
    "#from webgpu.mesh import MeshData\n",
    "from ngsolve import *\n",
    "import ngsolve_webgpu.jupyter\n",
    "\n",
    "def render(canvas, mesh, cf, order=2):\n",
    "    from ngsolve_webgpu.mesh import MeshData, FunctionData, CoefficientFunctionRenderObject, PointNumbersRenderObject, evaluate_cf\n",
    "    from webgpu.draw import Draw\n",
    "    import webgpu.jupyter as wj\n",
    "    import pyodide.ffi\n",
    "    import ngsolve as ngs\n",
    "    import js\n",
    "    from webgpu.scene import Scene, get_scene\n",
    "    \n",
    "    mesh_data = MeshData(mesh.ngmesh)\n",
    "    function_data = FunctionData(mesh_data, cf, order)\n",
    "    mesh_object = CoefficientFunctionRenderObject(function_data)\n",
    "    point_numbers = PointNumbersRenderObject(mesh_data, 13)\n",
    "    Draw([mesh_object, point_numbers], canvas)\n",
    "    \n",
    "    mesh_object.colormap.set_min_max(0., 1.)\n",
    "    \n",
    "    \n",
    "m = Mesh(unit_square.GenerateMesh(maxh=.1))\n",
    "#m = Mesh(unit_cube.GenerateMesh(maxh=.3))\n",
    "cf=sin(10*x)*sin(10*y)\n",
    "\n",
    "# \"data\" will be passed as argument to render on the pyodide side\n",
    "webgpu.jupyter.DrawCustom(render, kwargs={\"cf\": cf, \"mesh\": m, \"order\": 5}, modules=[\"ngsolve_webgpu\"])\n"
   ]
  },
  {
   "cell_type": "code",
   "execution_count": null,
   "id": "ebd100f7-36eb-4178-869a-5fade1604ce9",
   "metadata": {},
   "outputs": [],
   "source": [
    "# draw geometry\n",
    "\n",
    "from netgen.occ import *\n",
    "from ngsolve import *\n",
    "import webgpu.jupyter\n",
    "import ngsolve_webgpu.jupyter\n",
    "\n",
    "box = Box((-1,-1,-1), (1,1,1)) + Sphere((1,1,1), 0.4)\n",
    "\n",
    "def setup(canvas, geo):\n",
    "    import ngsolve_webgpu.geometry\n",
    "    from webgpu.scene import Scene\n",
    "    from webgpu.draw import Draw\n",
    "    obj = ngsolve_webgpu.geometry.GeometryRenderObject(geo)\n",
    "    Draw(obj, canvas)\n",
    "\n",
    "def draw_geo(geo):\n",
    "    if isinstance(geo, TopoDS_Shape):\n",
    "        geo = OCCGeometry(geo)\n",
    "    webgpu.jupyter.DrawCustom(setup, kwargs={\"geo\" : geo}, modules=[\"ngsolve_webgpu\"])\n",
    "\n",
    "draw_geo(box)"
   ]
  },
  {
   "cell_type": "code",
   "execution_count": null,
   "id": "92a2c610-652b-4cfa-b933-a7ab361f206a",
   "metadata": {},
   "outputs": [],
   "source": [
    "# draw isosurface\n",
    "import webgpu.jupyter\n",
    "import ngsolve_webgpu.jupyter\n",
    "from netgen.occ import *\n",
    "from ngsolve import *\n",
    "\n",
    "box = Box((-1,-1,-1), (1,1,1))\n",
    "geo = OCCGeometry(box)\n",
    "mesh = Mesh(geo.GenerateMesh(maxh=.15))\n",
    "gf = GridFunction(H1(mesh, order=3))\n",
    "cf = x**2 + y**2 + z**2 - 0.5**2\n",
    "gf.Set(cf)\n",
    "\n",
    "def setup(canvas, levelset, func, mesh):\n",
    "    import ngsolve_webgpu.isosurface\n",
    "    from webgpu.draw import Draw\n",
    "    Draw(ngsolve_webgpu.isosurface.IsoSurfaceRenderObject(levelset, func, mesh, \"Isosurface\"), canvas)\n",
    "\n",
    "def draw_iso(levelset, func, mesh):\n",
    "    import ngsolve_webgpu.isosurface\n",
    "    iso = ngsolve_webgpu.isosurface.IsoSurfaceRenderObject(levelset, func, mesh, \"Isosurface\")\n",
    "    scene = webgpu.jupyter.Scene([iso])\n",
    "    webgpu.jupyter.Draw(scene, modules=[\"ngsolve_webgpu\"])\n",
    "    return scene\n",
    "\n",
    "scene = draw_iso(gf, x/Norm(CF((x,y,z))), mesh)"
   ]
  },
  {
   "cell_type": "code",
   "execution_count": null,
   "id": "7c5c359b-33b0-4518-a395-2d05fe7f51cd",
   "metadata": {},
   "outputs": [],
   "source": [
    "gf.Set(x**2 + y**2 + z**2 - 0.7**2)\n",
    "scene.redraw()"
   ]
  },
  {
   "cell_type": "code",
   "execution_count": null,
   "id": "1fb07121-2b2c-45dc-ad7f-f1f1b2114ead",
   "metadata": {},
   "outputs": [],
   "source": []
  }
 ],
 "metadata": {
  "kernelspec": {
   "display_name": "Python 3 (ipykernel)",
   "language": "python",
   "name": "python3"
  },
  "language_info": {
   "codemirror_mode": {
    "name": "ipython",
    "version": 3
   },
   "file_extension": ".py",
   "mimetype": "text/x-python",
   "name": "python",
   "nbconvert_exporter": "python",
   "pygments_lexer": "ipython3",
   "version": "3.13.1"
  }
 },
 "nbformat": 4,
 "nbformat_minor": 5
}
