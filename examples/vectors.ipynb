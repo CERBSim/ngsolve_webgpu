{
 "cells": [
  {
   "cell_type": "code",
   "execution_count": null,
   "id": "29685a50-877b-4753-bcb9-bbb89f4cbcd4",
   "metadata": {},
   "outputs": [],
   "source": [
    "from ngsolve import *\n",
    "from webgpu.jupyter import DrawCustom\n",
    "import ngsolve_webgpu.jupyter"
   ]
  },
  {
   "cell_type": "code",
   "execution_count": null,
   "id": "a780c7c2-3016-4922-ae5a-50553478f725",
   "metadata": {},
   "outputs": [],
   "source": [
    "mesh = Mesh(unit_square.GenerateMesh(maxh=0.1))\n",
    "cf = CF((x,0))"
   ]
  },
  {
   "cell_type": "code",
   "execution_count": null,
   "id": "55dd6765-495a-4035-b849-72364b6e08b0",
   "metadata": {},
   "outputs": [],
   "source": [
    "\n",
    "def setup(gpu, cf, mesh):\n",
    "    from ngsolve_webgpu.vectors import VectorFieldRenderObject\n",
    "    import ngsolve as ngs\n",
    "    from ngsolve_webgpu.mesh import CoefficientFunctionRenderObject, FunctionData, MeshData\n",
    "    from webgpu.draw import Draw\n",
    "    mpts = mesh.MapToAllElements(ngs.IntegrationRule([(0.25, 0,0), (0.75, 0, 0)]),\n",
    "                                 mesh.Boundaries(\"bottom\"))\n",
    "    points = ngs.CF((ngs.x,ngs.y,ngs.z))(mpts)\n",
    "    if(cf.dim == 2):\n",
    "        cf3d = ngs.CF((cf[0], cf[1], 0))\n",
    "    else:\n",
    "        cf3d = cf\n",
    "    vectors = cf3d(mpts)\n",
    "    # points = [(0,0,0), (1,0,0)]\n",
    "    # vectors = [(2,0,0), (0,0,1)]\n",
    "    obj = VectorFieldRenderObject(points, vectors, size=0.04, gpu=gpu)\n",
    "    mdata = MeshData(mesh.ngmesh)\n",
    "    data = FunctionData(mdata, cf[0], order=2)\n",
    "    obj2 = CoefficientFunctionRenderObject(gpu, data)\n",
    "    Draw([obj, obj2])\n",
    "    \n",
    "DrawCustom(setup, kwargs={ \"cf\" : cf, \"mesh\" : mesh },  modules=[\"ngsolve_webgpu\"])"
   ]
  },
  {
   "cell_type": "code",
   "execution_count": null,
   "id": "59fe0bf9-ca09-4d37-bdc7-2f6d9b35e865",
   "metadata": {},
   "outputs": [],
   "source": []
  }
 ],
 "metadata": {
  "kernelspec": {
   "display_name": "Python 3 (ipykernel)",
   "language": "python",
   "name": "python3"
  },
  "language_info": {
   "codemirror_mode": {
    "name": "ipython",
    "version": 3
   },
   "file_extension": ".py",
   "mimetype": "text/x-python",
   "name": "python",
   "nbconvert_exporter": "python",
   "pygments_lexer": "ipython3",
   "version": "3.13.1"
  }
 },
 "nbformat": 4,
 "nbformat_minor": 5
}
